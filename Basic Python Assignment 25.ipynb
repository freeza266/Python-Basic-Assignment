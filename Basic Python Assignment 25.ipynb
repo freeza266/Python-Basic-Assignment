{
 "cells": [
  {
   "cell_type": "code",
   "execution_count": null,
   "id": "23af98bc",
   "metadata": {},
   "outputs": [],
   "source": [
    "1. What is the difference between enclosing a list comprehension in square brackets and parentheses?"
   ]
  },
  {
   "cell_type": "code",
   "execution_count": null,
   "id": "0d8cb719",
   "metadata": {},
   "outputs": [],
   "source": [
    "#Answer:\n",
    "Enclosing a list comprehension in square brackets returns a list.\n",
    "but where as enclosing a list comprehension in parentheses returns a generator object"
   ]
  },
  {
   "cell_type": "code",
   "execution_count": null,
   "id": "ee930622",
   "metadata": {},
   "outputs": [],
   "source": [
    "2. What is the relationship between generators and iterators?"
   ]
  },
  {
   "cell_type": "code",
   "execution_count": null,
   "id": "ace6377c",
   "metadata": {},
   "outputs": [],
   "source": [
    "#Answer:\n",
    "An iterator is an object which contains a countable number of values and it is used to iterate over iterable objects like list, tuples, sets, etc. \n",
    "Iterators are implemented using a class. \n",
    "It follows lazy evaluation where the evaluation of the expression will be on hold and stored in the memory until the item is called specifically which helps us to avoid repeated evaluation. \n",
    "As lazy evaluation is implemented, it requires only 1 memory location to process the value and when we are using a large dataset then, wastage of RAM space will be reduced the need to load the entire dataset at the same time will not be there.\n",
    "For an iterator: iter() keyword is used to create an iterator containing an iterable object.\n",
    "next() keyword is used to call the next element in the iterable object.\n",
    "\n",
    "Similarly Generators are an another way of creating iterators in a simple way where it uses the keyword yield statement instead of return statement in a defined function.\n",
    "Generators are implemented using a function. \n",
    "Just as iterators, generators also follow lazy evaluation. \n",
    "Here, the yield function returns the data without affecting or exiting the function. \n",
    "It will return a sequence of data in an iterable format where we need to iterate over the sequence to use the data as they won’t store the entire sequence in the memory."
   ]
  },
  {
   "cell_type": "code",
   "execution_count": null,
   "id": "230eca1f",
   "metadata": {},
   "outputs": [],
   "source": [
    "3. What are the signs that a function is a generator function?"
   ]
  },
  {
   "cell_type": "code",
   "execution_count": null,
   "id": "7ec51cc9",
   "metadata": {},
   "outputs": [],
   "source": [
    "#Answer:\n",
    "A generator function uses a yield statement instead of a return statement. \n",
    "A generator function will always return a iterable object called generator. \n",
    "where as a normal function can return a string/list/tuple/dict/NoneType ... etc"
   ]
  },
  {
   "cell_type": "code",
   "execution_count": null,
   "id": "8a33a90d",
   "metadata": {},
   "outputs": [],
   "source": [
    "4. What is the purpose of a yield statement?"
   ]
  },
  {
   "cell_type": "code",
   "execution_count": null,
   "id": "c7b448db",
   "metadata": {},
   "outputs": [],
   "source": [
    "#Answer:\n",
    "The yield statement suspends function’s execution and sends a value back to the caller, but retains enough state to enable function to resume where it is left off.\n",
    "When resumed, the function continues execution immediately after the last yield run. \n",
    "This allows its code to produce a series of values over time, rather than computing them at once and sending them back like a list."
   ]
  },
  {
   "cell_type": "code",
   "execution_count": null,
   "id": "235a6d98",
   "metadata": {},
   "outputs": [],
   "source": [
    "5. What is the relationship between map calls and list comprehensions? Make a comparison and contrast between the two ?"
   ]
  },
  {
   "cell_type": "code",
   "execution_count": null,
   "id": "72523885",
   "metadata": {},
   "outputs": [],
   "source": [
    "#Answer:\n",
    "The main differences between map calls and list comprehensiosn are:\n",
    "\n",
    "1. List comprehension is more concise and easier to read as compared to map.\n",
    "2. List comprehension allows filtering. In map, we have no such facility. \n",
    "   For example, to print all odd numbers in range of 50, we can write [n for n in range(50) if n%2 != 0].\n",
    "   There is no alternate for it in map\n",
    "3. List comprehension are used when a list of results is required as final output.but map only returns a map object. \n",
    "   it needs to be explicitly coverted to desired datatype.\n",
    "4. List comprehension is faster than map when we need to evaluate expressions that are too long or complicated to express\n",
    "5. Map is faster in case of calling an already defined function on a set of values."
   ]
  }
 ],
 "metadata": {
  "kernelspec": {
   "display_name": "Python 3",
   "language": "python",
   "name": "python3"
  },
  "language_info": {
   "codemirror_mode": {
    "name": "ipython",
    "version": 3
   },
   "file_extension": ".py",
   "mimetype": "text/x-python",
   "name": "python",
   "nbconvert_exporter": "python",
   "pygments_lexer": "ipython3",
   "version": "3.8.8"
  }
 },
 "nbformat": 4,
 "nbformat_minor": 5
}
