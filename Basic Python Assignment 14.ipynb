{
 "cells": [
  {
   "cell_type": "code",
   "execution_count": null,
   "id": "72a4cde5",
   "metadata": {},
   "outputs": [],
   "source": [
    "1. What does RGBA stand for?\n"
   ]
  },
  {
   "cell_type": "code",
   "execution_count": null,
   "id": "242c7b23",
   "metadata": {},
   "outputs": [],
   "source": [
    "#Answer:\n",
    "An RGBA value is a group of numbers that specify the amount of red, green, blue, and alpha (or transparency) in a color."
   ]
  },
  {
   "cell_type": "code",
   "execution_count": null,
   "id": "c725c172",
   "metadata": {},
   "outputs": [],
   "source": [
    "2. From the Pillow module, how do you get the RGBA value of any images?\n"
   ]
  },
  {
   "cell_type": "code",
   "execution_count": null,
   "id": "de1318de",
   "metadata": {},
   "outputs": [],
   "source": [
    "#Answer:\n",
    "ImageColor.getcolor() gives rgba value of any image."
   ]
  },
  {
   "cell_type": "code",
   "execution_count": null,
   "id": "968b887a",
   "metadata": {},
   "outputs": [],
   "source": [
    "3. What is a box tuple, and how does it work?"
   ]
  },
  {
   "cell_type": "code",
   "execution_count": null,
   "id": "4d267295",
   "metadata": {},
   "outputs": [],
   "source": [
    "#Answer:\n",
    "Box tuple is container of tuple of four integers where x-coordinate is represented by left edge, y-coordinate by top\n",
    "edge width and height respectively."
   ]
  },
  {
   "cell_type": "code",
   "execution_count": null,
   "id": "283a1c0c",
   "metadata": {},
   "outputs": [],
   "source": [
    "4. Use your image and load in notebook then, How can you find out the width and height of an\n",
    "Image object?\n"
   ]
  },
  {
   "cell_type": "code",
   "execution_count": 6,
   "id": "0009d6bb",
   "metadata": {},
   "outputs": [
    {
     "name": "stdout",
     "output_type": "stream",
     "text": [
      "Width, Height -> (2192, 2921)\n",
      "Width, Height -> 2192,2921\n",
      "Width, Height -> 2192,2921\n"
     ]
    }
   ],
   "source": [
    "#Answer:\n",
    "#Example Program\n",
    "from PIL import Image\n",
    "pic = Image.open('sample.jpg')\n",
    "print(f'Width, Height -> {pic.size}') # Approach 1\n",
    "print(f'Width, Height -> {pic.width},{pic.height}') # Approach 2\n",
    "width,height = pic.size\n",
    "print(f'Width, Height -> {width},{height}') # Approach 3"
   ]
  },
  {
   "cell_type": "code",
   "execution_count": null,
   "id": "c988a474",
   "metadata": {},
   "outputs": [],
   "source": [
    "5. What method would you call to get Image object for a 100×100 image, excluding the lower-left\n",
    "quarter of it?\n"
   ]
  },
  {
   "cell_type": "code",
   "execution_count": 7,
   "id": "573d531c",
   "metadata": {},
   "outputs": [],
   "source": [
    "#Answer:\n",
    "from PIL import Image\n",
    "img = Image.open('sample.jpg')\n",
    "new_img = img.crop((0,50,50,50))"
   ]
  },
  {
   "cell_type": "code",
   "execution_count": null,
   "id": "be8aae8e",
   "metadata": {},
   "outputs": [],
   "source": [
    "6. After making changes to an Image object, how could you save it as an image file?\n"
   ]
  },
  {
   "cell_type": "code",
   "execution_count": 8,
   "id": "b25c4818",
   "metadata": {},
   "outputs": [],
   "source": [
    "#Answer:\n",
    "from PIL import Image\n",
    "pic = Image.open('sample.jpg')\n",
    "pic.save('sample2.jpg')"
   ]
  },
  {
   "cell_type": "code",
   "execution_count": null,
   "id": "db028387",
   "metadata": {},
   "outputs": [],
   "source": [
    "7. What module contains Pillow’s shape-drawing code?\n"
   ]
  },
  {
   "cell_type": "code",
   "execution_count": null,
   "id": "c1a6442f",
   "metadata": {},
   "outputs": [],
   "source": [
    "#Answer:\n",
    "Pillows ImageDraw module contains Shape drawing methods."
   ]
  },
  {
   "cell_type": "code",
   "execution_count": null,
   "id": "593e4d04",
   "metadata": {},
   "outputs": [],
   "source": [
    "8. Image objects do not have drawing methods. What kind of object does? How do you get this kind\n",
    "of object?"
   ]
  },
  {
   "cell_type": "code",
   "execution_count": null,
   "id": "5bddafd7",
   "metadata": {},
   "outputs": [],
   "source": [
    "#Answer:\n",
    "ImageDraw objects have shape-drawing methods such as point(), line(), or rectangle().\n",
    "They are returned by passing the Image object to the ImageDraw.Draw() function."
   ]
  }
 ],
 "metadata": {
  "kernelspec": {
   "display_name": "Python 3",
   "language": "python",
   "name": "python3"
  },
  "language_info": {
   "codemirror_mode": {
    "name": "ipython",
    "version": 3
   },
   "file_extension": ".py",
   "mimetype": "text/x-python",
   "name": "python",
   "nbconvert_exporter": "python",
   "pygments_lexer": "ipython3",
   "version": "3.8.8"
  }
 },
 "nbformat": 4,
 "nbformat_minor": 5
}
