{
 "cells": [
  {
   "cell_type": "code",
   "execution_count": null,
   "id": "3170cf83",
   "metadata": {},
   "outputs": [],
   "source": [
    "1. What advantages do Excel spreadsheets have over CSV spreadsheets?\n"
   ]
  },
  {
   "cell_type": "code",
   "execution_count": null,
   "id": "629855fb",
   "metadata": {},
   "outputs": [],
   "source": [
    "#Answer:\n",
    "We can perform various operations on data in excel but no in csv.\n",
    "Excel can store more complex data.\n",
    "No distinction between data type in csv"
   ]
  },
  {
   "cell_type": "code",
   "execution_count": null,
   "id": "3486d484",
   "metadata": {},
   "outputs": [],
   "source": [
    "2.What do you pass to csv.reader() and csv.writer() to create reader and writer objects?\n"
   ]
  },
  {
   "cell_type": "code",
   "execution_count": 2,
   "id": "9227251b",
   "metadata": {},
   "outputs": [],
   "source": [
    "#Answer:\n",
    "import csv"
   ]
  },
  {
   "cell_type": "code",
   "execution_count": null,
   "id": "2aeee87b",
   "metadata": {},
   "outputs": [],
   "source": [
    "In csv.reader() we pass file and dialect.\n",
    "In csv.writer() we pass fileobj and dialect."
   ]
  },
  {
   "cell_type": "code",
   "execution_count": null,
   "id": "ef1a1514",
   "metadata": {},
   "outputs": [],
   "source": [
    "3. What modes do File objects for reader and writer objects need to be opened in?\n"
   ]
  },
  {
   "cell_type": "code",
   "execution_count": null,
   "id": "cc055d43",
   "metadata": {},
   "outputs": [],
   "source": [
    "#Answer:\n",
    "for reader object we open file in read mode 'r'.\n",
    "and for writer object we open file in write mode 'w'."
   ]
  },
  {
   "cell_type": "code",
   "execution_count": null,
   "id": "bdcf8f51",
   "metadata": {},
   "outputs": [],
   "source": [
    "4. What method takes a list argument and writes it to a CSV file?\n"
   ]
  },
  {
   "cell_type": "code",
   "execution_count": null,
   "id": "04bc0121",
   "metadata": {},
   "outputs": [],
   "source": [
    "#Answer:\n",
    "use writerow() method for list argument in csv file."
   ]
  },
  {
   "cell_type": "code",
   "execution_count": null,
   "id": "759346f3",
   "metadata": {},
   "outputs": [],
   "source": [
    "5. What do the keyword arguments delimiter and line terminator do?\n"
   ]
  },
  {
   "cell_type": "code",
   "execution_count": null,
   "id": "f984bc87",
   "metadata": {},
   "outputs": [],
   "source": [
    "#Answer:\n",
    "First Name, Last Name, Age\n",
    "Mano, Vishnu, 24\n",
    "Vishnu, Vardhan, 21\n",
    "\n",
    "Here ',' is Delimiter. We can use any Character as per our needs if required.\n",
    "Similarly Line Terminator comes at end of line by default it is newline and can be changed accourding to Requirement."
   ]
  },
  {
   "cell_type": "code",
   "execution_count": null,
   "id": "756bb705",
   "metadata": {},
   "outputs": [],
   "source": [
    "6. What function takes a string of JSON data and returns a Python data structure?\n"
   ]
  },
  {
   "cell_type": "code",
   "execution_count": null,
   "id": "bb5bfa2b",
   "metadata": {},
   "outputs": [],
   "source": [
    "#Answer:\n",
    "loads() method takes a string of JSON data and returns a Python data structure\n"
   ]
  },
  {
   "cell_type": "code",
   "execution_count": null,
   "id": "94ad4f49",
   "metadata": {},
   "outputs": [],
   "source": [
    "7. What function takes a Python data structure and returns a string of JSON data?"
   ]
  },
  {
   "cell_type": "code",
   "execution_count": null,
   "id": "f500be2b",
   "metadata": {},
   "outputs": [],
   "source": [
    "#Answer:\n",
    "dumps() function convert json data into python data structure. "
   ]
  }
 ],
 "metadata": {
  "kernelspec": {
   "display_name": "Python 3",
   "language": "python",
   "name": "python3"
  },
  "language_info": {
   "codemirror_mode": {
    "name": "ipython",
    "version": 3
   },
   "file_extension": ".py",
   "mimetype": "text/x-python",
   "name": "python",
   "nbconvert_exporter": "python",
   "pygments_lexer": "ipython3",
   "version": "3.8.8"
  }
 },
 "nbformat": 4,
 "nbformat_minor": 5
}
