{
 "cells": [
  {
   "cell_type": "code",
   "execution_count": null,
   "id": "0d0dd268",
   "metadata": {},
   "outputs": [],
   "source": [
    "1. How do you distinguish between shutil.copy() and shutil.copytree()?\n"
   ]
  },
  {
   "cell_type": "code",
   "execution_count": null,
   "id": "68503c07",
   "metadata": {},
   "outputs": [],
   "source": [
    "#Answer:\n",
    "shutil.copytree() will copy entire folder like branchers of trees (all files in it)\n",
    " whereas shutil.copy() will copy only single folder"
   ]
  },
  {
   "cell_type": "code",
   "execution_count": null,
   "id": "a18bceae",
   "metadata": {},
   "outputs": [],
   "source": [
    "2. What function is used to rename files??\n"
   ]
  },
  {
   "cell_type": "code",
   "execution_count": null,
   "id": "a2b4e1ad",
   "metadata": {},
   "outputs": [],
   "source": [
    "#Answer:\n",
    "First import os module then use os.rename() to rename a file."
   ]
  },
  {
   "cell_type": "code",
   "execution_count": null,
   "id": "2076a65f",
   "metadata": {},
   "outputs": [],
   "source": [
    "3. What is the difference between the delete functions in the send2trash and shutil modules?\n"
   ]
  },
  {
   "cell_type": "code",
   "execution_count": null,
   "id": "ddafaefe",
   "metadata": {},
   "outputs": [],
   "source": [
    "#Answer:\n",
    "send2trash sends file to recycle bin and shutil module deletes file permanantly."
   ]
  },
  {
   "cell_type": "code",
   "execution_count": null,
   "id": "0f43975e",
   "metadata": {},
   "outputs": [],
   "source": [
    "4.ZipFile objects have a close() method just like File objects’ close() method. What ZipFile method is\n",
    "equivalent to File objects’ open() method?\n"
   ]
  },
  {
   "cell_type": "code",
   "execution_count": null,
   "id": "bcde02db",
   "metadata": {},
   "outputs": [],
   "source": [
    "#Answer:\n",
    "to open or write to a zipfile we use 'w' as second argument similar to file objects open()"
   ]
  },
  {
   "cell_type": "code",
   "execution_count": null,
   "id": "80a80d46",
   "metadata": {},
   "outputs": [],
   "source": [
    "import zipfile as zf\n",
    "x = zf.ZipFile(\"abc.zip\",'w')\n",
    "x.close()"
   ]
  },
  {
   "cell_type": "code",
   "execution_count": null,
   "id": "0fda1669",
   "metadata": {},
   "outputs": [],
   "source": [
    "5. Create a programme that searches a folder tree for files with a certain file extension (such as .pdf\n",
    "or .jpg). Copy these files from whatever location they are in to a new folder."
   ]
  },
  {
   "cell_type": "code",
   "execution_count": 3,
   "id": "a1e233fa",
   "metadata": {},
   "outputs": [],
   "source": [
    "#Answer:\n",
    "import os\n",
    "import shutil"
   ]
  },
  {
   "cell_type": "code",
   "execution_count": 4,
   "id": "ab028bee",
   "metadata": {},
   "outputs": [],
   "source": [
    "def search_and_copy(source,destination,extensions):\n",
    "    source = os.path.abspath(source)\n",
    "    destination = os.path.abspath(destination)\n",
    "    for foldername, subfolder, filenames in os.walk(source):\n",
    "        print(f'Folder Name ➞ {foldername}',end='\\n\\n')\n",
    "        print(f'Sub Folders ➞ {subfolder}',end='\\n\\n')\n",
    "        print(f'Files ➞ {filenames}',end='\\n\\n')\n",
    "        for filename in filenames:\n",
    "            fileName,extension = os.path.splitext(filename)\n",
    "            if extension in extensions:\n",
    "                targetFile = foldername+os.path.sep+fileName+extension\n",
    "                shutil.copy(targetFile, destination)\n",
    "        print(f'Files copied successfully from {source} to {destination}')\n",
    "    \n",
    "extensions = ['.pdf','.jpg','.ipynb']\n",
    "source = 'Dummy Source'\n",
    "destination = 'Dummy Destination'\n",
    "search_and_copy(source, destination, extensions)"
   ]
  }
 ],
 "metadata": {
  "kernelspec": {
   "display_name": "Python 3",
   "language": "python",
   "name": "python3"
  },
  "language_info": {
   "codemirror_mode": {
    "name": "ipython",
    "version": 3
   },
   "file_extension": ".py",
   "mimetype": "text/x-python",
   "name": "python",
   "nbconvert_exporter": "python",
   "pygments_lexer": "ipython3",
   "version": "3.8.8"
  }
 },
 "nbformat": 4,
 "nbformat_minor": 5
}
