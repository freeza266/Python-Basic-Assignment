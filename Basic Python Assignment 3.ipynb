{
 "cells": [
  {
   "cell_type": "code",
   "execution_count": null,
   "id": "3e218bd7",
   "metadata": {},
   "outputs": [],
   "source": [
    "1. Why are functions advantageous to have in your programs?"
   ]
  },
  {
   "cell_type": "code",
   "execution_count": null,
   "id": "b6b6e685",
   "metadata": {},
   "outputs": [],
   "source": [
    "#Answer:\n",
    "Functions are advantageious to have in our programs because of their reusuability which makes program shorter, easy to read and update."
   ]
  },
  {
   "cell_type": "code",
   "execution_count": null,
   "id": "dd213eaf",
   "metadata": {},
   "outputs": [],
   "source": [
    "2. When does the code in a function run: when it's specified or when it's called?"
   ]
  },
  {
   "cell_type": "code",
   "execution_count": null,
   "id": "150fe29f",
   "metadata": {},
   "outputs": [],
   "source": [
    "#Answer:\n",
    "The code in a function runs when a function is called and starts executing the function."
   ]
  },
  {
   "cell_type": "code",
   "execution_count": null,
   "id": "516f5b9a",
   "metadata": {},
   "outputs": [],
   "source": [
    "3. What statement creates a function?"
   ]
  },
  {
   "cell_type": "code",
   "execution_count": null,
   "id": "abacea56",
   "metadata": {},
   "outputs": [],
   "source": [
    "#Answer:\n",
    "def function_name(arguments):\n",
    "    return arguments"
   ]
  },
  {
   "cell_type": "code",
   "execution_count": null,
   "id": "d74d8481",
   "metadata": {},
   "outputs": [],
   "source": [
    "4. What is the difference between a function and a function call?"
   ]
  },
  {
   "cell_type": "code",
   "execution_count": null,
   "id": "92a8e553",
   "metadata": {},
   "outputs": [],
   "source": [
    "#Answer:\n",
    "Function means a pre-coded task which will only perform if it is called. This is where function call comes into picture to achieve the task by excecuting the function."
   ]
  },
  {
   "cell_type": "code",
   "execution_count": null,
   "id": "6fd2ec30",
   "metadata": {},
   "outputs": [],
   "source": [
    "5. How many global scopes are there in a Python program? How many local scopes?\n"
   ]
  },
  {
   "cell_type": "code",
   "execution_count": null,
   "id": "fd2cfe9b",
   "metadata": {},
   "outputs": [],
   "source": [
    "#Answer:\n",
    "There is only one global scope per python program and remains there untill program is terminated.\n",
    "\n",
    "There can be as many local scopes as you want inside a program because variable crearted inside a function can only be used in that space."
   ]
  },
  {
   "cell_type": "code",
   "execution_count": null,
   "id": "fd9c0614",
   "metadata": {},
   "outputs": [],
   "source": [
    "6. What happens to variables in a local scope when the function call returns?\n"
   ]
  },
  {
   "cell_type": "code",
   "execution_count": null,
   "id": "31cda942",
   "metadata": {},
   "outputs": [],
   "source": [
    "#Answer:\n",
    "Variable in a local space is confined to that space of function can only be used in that function and therefore retains its value untill next time function is called."
   ]
  },
  {
   "cell_type": "code",
   "execution_count": null,
   "id": "0b7036cd",
   "metadata": {},
   "outputs": [],
   "source": [
    "7. What is the concept of a return value? Is it possible to have a return value in an expression?"
   ]
  },
  {
   "cell_type": "code",
   "execution_count": null,
   "id": "b97c5a64",
   "metadata": {},
   "outputs": [],
   "source": [
    "#Answer:\n",
    "It is a special statement in a function used to sent result to caller who called function.\n",
    "\n",
    "yes it is possible to have return value in an expression "
   ]
  },
  {
   "cell_type": "code",
   "execution_count": null,
   "id": "0f1a3754",
   "metadata": {},
   "outputs": [],
   "source": [
    "8. If a function does not have a return statement, what is the return value of a call to that function?\n"
   ]
  },
  {
   "cell_type": "code",
   "execution_count": null,
   "id": "037c4dc2",
   "metadata": {},
   "outputs": [],
   "source": [
    "#Answer:\n",
    "The function doesnt return any particular value. For example if you want to addition of number it will perform addition but not return the results without return statement."
   ]
  },
  {
   "cell_type": "code",
   "execution_count": null,
   "id": "7c2f99c5",
   "metadata": {},
   "outputs": [],
   "source": [
    "9. How do you make a function variable refer to the global variable?\n"
   ]
  },
  {
   "cell_type": "code",
   "execution_count": null,
   "id": "4e43397b",
   "metadata": {},
   "outputs": [],
   "source": [
    "#Answer:\n",
    "Global variable is a variable which is not connected to any particular function i.e it is free to be called in any function and also be reused.\n",
    "Therefore to refer a function variable to global variable we use global keyword to declare which variable are global"
   ]
  },
  {
   "cell_type": "code",
   "execution_count": null,
   "id": "902f9b61",
   "metadata": {},
   "outputs": [],
   "source": [
    "10. What is the data type of None?\n"
   ]
  },
  {
   "cell_type": "code",
   "execution_count": 1,
   "id": "8ac9b011",
   "metadata": {},
   "outputs": [
    {
     "data": {
      "text/plain": [
       "NoneType"
      ]
     },
     "execution_count": 1,
     "metadata": {},
     "output_type": "execute_result"
    }
   ],
   "source": [
    "#Answer:\n",
    "type(None)  #It is null. Neither Zero nor any other value."
   ]
  },
  {
   "cell_type": "code",
   "execution_count": null,
   "id": "b835f5c3",
   "metadata": {},
   "outputs": [],
   "source": [
    "11. What does the sentence import areallyourpetsnamederic do?\n"
   ]
  },
  {
   "cell_type": "code",
   "execution_count": null,
   "id": "8581e7cd",
   "metadata": {},
   "outputs": [],
   "source": [
    "#Answer:\n",
    "The sentence will import areallyourpetnamederic module."
   ]
  },
  {
   "cell_type": "code",
   "execution_count": null,
   "id": "69d1ce9b",
   "metadata": {},
   "outputs": [],
   "source": [
    "12. If you had a bacon() feature in a spam module, what would you call it after importing spam?\n"
   ]
  },
  {
   "cell_type": "code",
   "execution_count": null,
   "id": "f7978eb0",
   "metadata": {},
   "outputs": [],
   "source": [
    "#Answer:\n",
    "spam.bacon()"
   ]
  },
  {
   "cell_type": "code",
   "execution_count": null,
   "id": "b0b989c7",
   "metadata": {},
   "outputs": [],
   "source": [
    "13. What can you do to save a programme from crashing if it encounters an error?\n"
   ]
  },
  {
   "cell_type": "code",
   "execution_count": null,
   "id": "8650b110",
   "metadata": {},
   "outputs": [],
   "source": [
    "#Answer:\n",
    "I will use try and catch for preventing crash."
   ]
  },
  {
   "cell_type": "code",
   "execution_count": null,
   "id": "9c29560a",
   "metadata": {},
   "outputs": [],
   "source": [
    "14. What is the purpose of the try clause? What is the purpose of the except clause?"
   ]
  },
  {
   "cell_type": "code",
   "execution_count": null,
   "id": "37aaf90d",
   "metadata": {},
   "outputs": [],
   "source": [
    "TRY CLAUSE: try clause is used when you think that program can crash so you try to run the program and it crashes it wont disturb other part of program.\n",
    "\n",
    "EXCEPT CLAUSE: except clause is used when you are trying a certain part of program but it fails so it used as a response to exception."
   ]
  }
 ],
 "metadata": {
  "kernelspec": {
   "display_name": "Python 3",
   "language": "python",
   "name": "python3"
  },
  "language_info": {
   "codemirror_mode": {
    "name": "ipython",
    "version": 3
   },
   "file_extension": ".py",
   "mimetype": "text/x-python",
   "name": "python",
   "nbconvert_exporter": "python",
   "pygments_lexer": "ipython3",
   "version": "3.8.8"
  }
 },
 "nbformat": 4,
 "nbformat_minor": 5
}
