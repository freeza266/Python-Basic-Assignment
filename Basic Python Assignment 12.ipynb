{
 "cells": [
  {
   "cell_type": "code",
   "execution_count": null,
   "id": "129640f7",
   "metadata": {},
   "outputs": [],
   "source": [
    "1. In what modes should the PdfFileReader() and PdfFileWriter() File objects will be opened?"
   ]
  },
  {
   "cell_type": "code",
   "execution_count": null,
   "id": "175dbac4",
   "metadata": {},
   "outputs": [],
   "source": [
    "#Answer:\n",
    "PdfFileReader() -- it is used in 'rb' mode i.e. read binary\n",
    "PdfFileWriter() -- it is used in 'wb' mode i.e. write binary"
   ]
  },
  {
   "cell_type": "code",
   "execution_count": null,
   "id": "6903b75d",
   "metadata": {},
   "outputs": [],
   "source": [
    "2. From a PdfFileReader object, how do you get a Page object for page 5?"
   ]
  },
  {
   "cell_type": "code",
   "execution_count": null,
   "id": "124736ec",
   "metadata": {},
   "outputs": [],
   "source": [
    "#Answer:\n",
    "use getpage(5) method."
   ]
  },
  {
   "cell_type": "code",
   "execution_count": null,
   "id": "0f040b14",
   "metadata": {},
   "outputs": [],
   "source": [
    "3. What PdfFileReader variable stores the number of pages in the PDF document?\n"
   ]
  },
  {
   "cell_type": "code",
   "execution_count": null,
   "id": "c05e384c",
   "metadata": {},
   "outputs": [],
   "source": [
    "#Answer:\n",
    "numPages stores the total no of pages in a pdf"
   ]
  },
  {
   "cell_type": "code",
   "execution_count": null,
   "id": "e11eee09",
   "metadata": {},
   "outputs": [],
   "source": [
    "4. If a PdfFileReader object’s PDF is encrypted with the password swordfish, what must you do\n",
    "before you can obtain Page objects from it?\n"
   ]
  },
  {
   "cell_type": "code",
   "execution_count": null,
   "id": "e7059bec",
   "metadata": {},
   "outputs": [],
   "source": [
    "#Answer:\n",
    "step 1 - load pdf [ PyPDF2.PdfFileReader(open('encrypted.pdf', 'rb')) ]\n",
    "step 2 - check weather it is encrypted [ pdf.isEncrypted ]\n",
    "step 3 - if encrypted use [ pdf.decrypt('swordfish') ]"
   ]
  },
  {
   "cell_type": "code",
   "execution_count": null,
   "id": "55c14250",
   "metadata": {},
   "outputs": [],
   "source": [
    "5. What methods do you use to rotate a page?\n"
   ]
  },
  {
   "cell_type": "code",
   "execution_count": null,
   "id": "4d8ec16f",
   "metadata": {},
   "outputs": [],
   "source": [
    "#Answer:\n",
    "rotateClockWise() -> For Clockwise rotation\n",
    "rotateCounterClockWise() -> For Counter Clockwise rotation"
   ]
  },
  {
   "cell_type": "code",
   "execution_count": null,
   "id": "e87b970a",
   "metadata": {},
   "outputs": [],
   "source": [
    "6. What is the difference between a Run object and a Paragraph object?\n"
   ]
  },
  {
   "cell_type": "code",
   "execution_count": null,
   "id": "85f493c9",
   "metadata": {},
   "outputs": [],
   "source": [
    "#Answer:\n",
    "Word document contain formatted text wrapped within three object levels:\n",
    "    lowest level: run objects.\n",
    "    middle level: paragraph objects.\n",
    "    highest level: document object.\n",
    "\n",
    "Run Object is used for inline content, text, pictures and other items within a paragraph. "
   ]
  },
  {
   "cell_type": "code",
   "execution_count": null,
   "id": "4c4245ac",
   "metadata": {},
   "outputs": [],
   "source": [
    "7. How do you obtain a list of Paragraph objects for a Document object that’s stored in a variable\n",
    "named doc?\n"
   ]
  },
  {
   "cell_type": "code",
   "execution_count": 2,
   "id": "db1ef74f",
   "metadata": {},
   "outputs": [],
   "source": [
    "#Answer:\n",
    "# Example:\n",
    "from docx import Document\n",
    "doc = Document(\"sample_file.docx\") # Path of the Docx file\n",
    "print(doc.paragraphs) # Prints the list of Paragraph objects for a Document\n",
    "for paragraph in doc.paragraphs:\n",
    "    print(paragraph.text) # Prints the text in the paragraph"
   ]
  },
  {
   "cell_type": "code",
   "execution_count": null,
   "id": "cc4f3b94",
   "metadata": {},
   "outputs": [],
   "source": [
    "8. What type of object has bold, underline, italic, strike, and outline variables?\n"
   ]
  },
  {
   "cell_type": "code",
   "execution_count": null,
   "id": "8a7e1a15",
   "metadata": {},
   "outputs": [],
   "source": [
    "#Answer:\n",
    "Run Object"
   ]
  },
  {
   "cell_type": "code",
   "execution_count": null,
   "id": "0f9ff341",
   "metadata": {},
   "outputs": [],
   "source": [
    "9. What is the difference between False, True, and None for the bold variable?\n"
   ]
  },
  {
   "cell_type": "code",
   "execution_count": null,
   "id": "a8f6ae6e",
   "metadata": {},
   "outputs": [],
   "source": [
    "#Answer:\n",
    "True = on\n",
    "False = off\n",
    "none = not available"
   ]
  },
  {
   "cell_type": "code",
   "execution_count": null,
   "id": "ae28e137",
   "metadata": {},
   "outputs": [],
   "source": [
    "10. How do you create a Document object for a new Word document?\n"
   ]
  },
  {
   "cell_type": "code",
   "execution_count": null,
   "id": "d2a22413",
   "metadata": {},
   "outputs": [],
   "source": [
    "#Answer:\n",
    "doc = docx.Document()\n",
    "doc.add_paragraph('world')\n",
    "doc.save('hello.docx')"
   ]
  },
  {
   "cell_type": "code",
   "execution_count": null,
   "id": "985f3d0a",
   "metadata": {},
   "outputs": [],
   "source": [
    "11. How do you add a paragraph with the text 'Hello, there!' to a Document object stored in a\n",
    "variable named doc?\n"
   ]
  },
  {
   "cell_type": "code",
   "execution_count": null,
   "id": "24ade39f",
   "metadata": {},
   "outputs": [],
   "source": [
    "#Answer:\n",
    "doc = docx.Document()\n",
    "doc.add_paragraph('Hello,there!')\n",
    "doc.save('hellothere.docx')"
   ]
  },
  {
   "cell_type": "code",
   "execution_count": null,
   "id": "43c3bfa2",
   "metadata": {},
   "outputs": [],
   "source": [
    "12. What integers represent the levels of headings available in Word documents?"
   ]
  },
  {
   "cell_type": "code",
   "execution_count": null,
   "id": "43767ef2",
   "metadata": {},
   "outputs": [],
   "source": [
    "#Answer:\n",
    "The levels for a heading in a word document can be specified by using the level attribute inside the add_heading method.\n",
    "There are a total of 5 levels statring for 0 t0 4.\n",
    "where level 0 makes a headline with the horizontal line below the text, whereas the heading level 1 is the main heading.\n",
    "Similarly, the other headings are sub-heading with their's font-sizes in decreasing order."
   ]
  }
 ],
 "metadata": {
  "kernelspec": {
   "display_name": "Python 3",
   "language": "python",
   "name": "python3"
  },
  "language_info": {
   "codemirror_mode": {
    "name": "ipython",
    "version": 3
   },
   "file_extension": ".py",
   "mimetype": "text/x-python",
   "name": "python",
   "nbconvert_exporter": "python",
   "pygments_lexer": "ipython3",
   "version": "3.8.8"
  }
 },
 "nbformat": 4,
 "nbformat_minor": 5
}
