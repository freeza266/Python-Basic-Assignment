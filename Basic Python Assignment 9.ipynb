{
 "cells": [
  {
   "cell_type": "code",
   "execution_count": null,
   "id": "fded0fba",
   "metadata": {},
   "outputs": [],
   "source": [
    "1. To what does a relative path refer?\n"
   ]
  },
  {
   "cell_type": "code",
   "execution_count": null,
   "id": "230c37f2",
   "metadata": {},
   "outputs": [],
   "source": [
    "#Answer:\n",
    "relative path shows current working directory path\n",
    "'C:\\Users\\Gaurav Satam\\Basic Python Assignment 9.ipynb'"
   ]
  },
  {
   "cell_type": "code",
   "execution_count": null,
   "id": "0e476015",
   "metadata": {},
   "outputs": [],
   "source": [
    "2. What does an absolute path start with your operating system?\n"
   ]
  },
  {
   "cell_type": "code",
   "execution_count": null,
   "id": "e46f4185",
   "metadata": {},
   "outputs": [],
   "source": [
    "#Answer:\n",
    "in Windows based systems absolute path starts with C:"
   ]
  },
  {
   "cell_type": "code",
   "execution_count": null,
   "id": "95aa8986",
   "metadata": {},
   "outputs": [],
   "source": [
    "3. What do the functions os.getcwd() and os.chdir() do?\n"
   ]
  },
  {
   "cell_type": "code",
   "execution_count": null,
   "id": "9d6fcf8a",
   "metadata": {},
   "outputs": [],
   "source": [
    "os.getcwd() method tells us the location of current working directory (CWD).\n",
    "Whereas os.chdir() method in Python used to change the current working directory to specified path."
   ]
  },
  {
   "cell_type": "code",
   "execution_count": 5,
   "id": "ec777b52",
   "metadata": {},
   "outputs": [
    {
     "name": "stdout",
     "output_type": "stream",
     "text": [
      "C:\\Users\\Gaurav Satam\n",
      "C:\\Users\\Gaurav Satam\\Documents\n"
     ]
    }
   ],
   "source": [
    "#Answer:\n",
    "import os\n",
    "print(os.getcwd()) # Prints the current Working Directory\n",
    "path = r'C:\\Users\\Gaurav Satam\\Documents'\n",
    "os.chdir(path)\n",
    "print(os.getcwd())"
   ]
  },
  {
   "cell_type": "code",
   "execution_count": null,
   "id": "4dec11ab",
   "metadata": {},
   "outputs": [],
   "source": [
    "4. What are the . and .. folders?\n"
   ]
  },
  {
   "cell_type": "code",
   "execution_count": null,
   "id": "30776d3e",
   "metadata": {},
   "outputs": [],
   "source": [
    "#Answer:\n",
    ". Represents the Current Directory Whereas .. Represents the Parent Directory of the Current Directory"
   ]
  },
  {
   "cell_type": "code",
   "execution_count": null,
   "id": "a850f71f",
   "metadata": {},
   "outputs": [],
   "source": [
    "5. In C:\\bacon\\eggs\\spam.txt, which part is the dir name, and which part is the base name?\n"
   ]
  },
  {
   "cell_type": "code",
   "execution_count": null,
   "id": "487ebd23",
   "metadata": {},
   "outputs": [],
   "source": [
    "#Answer:\n",
    "C:\\bacon\\eggs --> dir name\n",
    "\n",
    "spam.txt --> base name"
   ]
  },
  {
   "cell_type": "code",
   "execution_count": null,
   "id": "f626ec27",
   "metadata": {},
   "outputs": [],
   "source": [
    "6. What are the three “mode” arguments that can be passed to the open() function?\n"
   ]
  },
  {
   "cell_type": "code",
   "execution_count": null,
   "id": "6afefd36",
   "metadata": {},
   "outputs": [],
   "source": [
    "#Answer:\n",
    "Three mode arguments are:\n",
    "    1. 'r' --> open for reading in text mode.\n",
    "    2. 'w' --> open for writing.\n",
    "    3. 'a' --> open for appending."
   ]
  },
  {
   "cell_type": "code",
   "execution_count": null,
   "id": "e78243e4",
   "metadata": {},
   "outputs": [],
   "source": [
    "7. What happens if an existing file is opened in write mode?\n"
   ]
  },
  {
   "cell_type": "code",
   "execution_count": null,
   "id": "596b3c5e",
   "metadata": {},
   "outputs": [],
   "source": [
    "#Answer:\n",
    "when an existing file is opened in write mode previous content is erased and file is treated as \n",
    "new empty file."
   ]
  },
  {
   "cell_type": "code",
   "execution_count": null,
   "id": "05d6e468",
   "metadata": {},
   "outputs": [],
   "source": [
    "8. How do you tell the difference between read() and readlines()?\n"
   ]
  },
  {
   "cell_type": "code",
   "execution_count": null,
   "id": "5555bd83",
   "metadata": {},
   "outputs": [],
   "source": [
    "#Answer:\n",
    "read()      --> it iterates over each character.\n",
    "readlines() --> read only single line of the file."
   ]
  },
  {
   "cell_type": "code",
   "execution_count": null,
   "id": "5366af30",
   "metadata": {},
   "outputs": [],
   "source": [
    "9. What data structure does a shelf value resemble?"
   ]
  },
  {
   "cell_type": "code",
   "execution_count": null,
   "id": "cb0782d7",
   "metadata": {},
   "outputs": [],
   "source": [
    "#Answer:\n",
    "As it contains key and values it represents dictionary."
   ]
  }
 ],
 "metadata": {
  "kernelspec": {
   "display_name": "Python 3",
   "language": "python",
   "name": "python3"
  },
  "language_info": {
   "codemirror_mode": {
    "name": "ipython",
    "version": 3
   },
   "file_extension": ".py",
   "mimetype": "text/x-python",
   "name": "python",
   "nbconvert_exporter": "python",
   "pygments_lexer": "ipython3",
   "version": "3.8.8"
  }
 },
 "nbformat": 4,
 "nbformat_minor": 5
}
