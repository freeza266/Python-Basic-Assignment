{
 "cells": [
  {
   "cell_type": "code",
   "execution_count": null,
   "id": "bbf24c7e",
   "metadata": {},
   "outputs": [],
   "source": [
    "1. In the below elements which of them are values or an expression? eg:- values can be integer or string and expressions will be mathematical operators.\n",
    "* \n",
    "'hello'\n",
    "-87.8\n",
    "- \n",
    "/ \n",
    "6 "
   ]
  },
  {
   "cell_type": "code",
   "execution_count": null,
   "id": "f3258d05",
   "metadata": {},
   "outputs": [],
   "source": [
    "#Answer:\n",
    "*       ---> Operater(Multiplication)\n",
    "'hello' ---> Value(type = string)\n",
    "-87.8   ---> Value(type = float)\n",
    "-       ---> Operator(Subtraction)\n",
    "/       ---> Operator(Divison)\n",
    "6       ---> Value(type = integer)\n"
   ]
  },
  {
   "cell_type": "code",
   "execution_count": null,
   "id": "674f019b",
   "metadata": {},
   "outputs": [],
   "source": [
    "2. What is the difference between string and variable?"
   ]
  },
  {
   "cell_type": "code",
   "execution_count": 1,
   "id": "387f3596",
   "metadata": {},
   "outputs": [
    {
     "name": "stdout",
     "output_type": "stream",
     "text": [
      "<class 'int'>\n",
      "<class 'str'>\n"
     ]
    }
   ],
   "source": [
    "#Answer:\n",
    "#Variable is a container which can store different data types like string, integer, float, etc.\n",
    "#whereas string is a data type which can be stored in a variable.\n",
    "#For eg.\n",
    "a = 6\n",
    "print(type(a))\n",
    "\n",
    "b = \"hello\"\n",
    "print(type(b))"
   ]
  },
  {
   "cell_type": "code",
   "execution_count": null,
   "id": "4bd12d50",
   "metadata": {},
   "outputs": [],
   "source": [
    "3. Describe three different data types."
   ]
  },
  {
   "cell_type": "code",
   "execution_count": null,
   "id": "65786659",
   "metadata": {},
   "outputs": [],
   "source": [
    "#Ans.: There are various data types some of them are:\n",
    "\n",
    "1. string\n",
    "2. int\n",
    "3. float\n",
    "4. list\n",
    "5. tuple\n",
    "6. set\n",
    "7. dictionary (dict)\n",
    "8. complex\n",
    "\n",
    "String (str): this is a data type used for text, placed in between \" \" or ' '.\n",
    "\n",
    "         for example:\n",
    "    a = 'Hello Ineuron' #where hello world is of type str.\n",
    "    \n",
    "Integer(int): this is a numerical data type which is used for numbers without decimal points.\n",
    "         for example:\n",
    "    b = 15\n",
    "    \n",
    "Float : this is also a numerical data type but with decimal point.\n",
    "\n",
    "         for example:\n",
    "    c = 6.9"
   ]
  },
  {
   "cell_type": "code",
   "execution_count": 1,
   "id": "bce8af4a",
   "metadata": {},
   "outputs": [
    {
     "name": "stdout",
     "output_type": "stream",
     "text": [
      "a data type is: <class 'str'>\n",
      "b data type is: <class 'int'>\n",
      "b data type is: <class 'float'>\n"
     ]
    }
   ],
   "source": [
    "#Answer\n",
    "a = \"Hello Ineuron\"\n",
    "print('a data type is:', type(a))\n",
    "b = 15\n",
    "print('b data type is:', type(b))\n",
    "c = 6.9\n",
    "print('b data type is:', type(c))"
   ]
  },
  {
   "cell_type": "code",
   "execution_count": null,
   "id": "3273fe14",
   "metadata": {},
   "outputs": [],
   "source": [
    "4. What is an expression made up of? What do all expressions do?\n"
   ]
  },
  {
   "cell_type": "code",
   "execution_count": null,
   "id": "dd6167be",
   "metadata": {},
   "outputs": [],
   "source": [
    "#Answer:\n",
    "Expression is a combination of operators, variables, values and functions. for example: print(\"Hello Ineuron\") here print is a keyword whereas \"Hello Ineuron\" is expression. or 60+9"
   ]
  },
  {
   "cell_type": "code",
   "execution_count": null,
   "id": "cb718b42",
   "metadata": {},
   "outputs": [],
   "source": [
    "5. This assignment statements, like spam = 10. What is the difference between an expression and a statement?\n"
   ]
  },
  {
   "cell_type": "code",
   "execution_count": null,
   "id": "3528c6d8",
   "metadata": {},
   "outputs": [],
   "source": [
    "#Answer\n",
    "Broadcasting of variable means binding it to a data type \n",
    "like in our case spam is used for binding 10 to it as an integer value.\n",
    "Whereas as an expression is the combination of operators and operands for example: 60+9"
   ]
  },
  {
   "cell_type": "code",
   "execution_count": null,
   "id": "a452639d",
   "metadata": {},
   "outputs": [],
   "source": [
    "6. After running the following code, what does the variable bacon contain?\n",
    "bacon = 22\n",
    "bacon + 1\n"
   ]
  },
  {
   "cell_type": "code",
   "execution_count": 2,
   "id": "98042ab9",
   "metadata": {},
   "outputs": [
    {
     "name": "stdout",
     "output_type": "stream",
     "text": [
      "Bacon contains: 22\n"
     ]
    }
   ],
   "source": [
    "#Answer:\n",
    "bacon = 22\n",
    "bacon +1        #it does not adds to our variable bacon\n",
    "print('Bacon contains:', bacon)"
   ]
  },
  {
   "cell_type": "code",
   "execution_count": null,
   "id": "a9db6bf9",
   "metadata": {},
   "outputs": [],
   "source": [
    "7. What should the values of the following two terms be?\n",
    "'spam' + 'spamspam'\n",
    "'spam' * 3"
   ]
  },
  {
   "cell_type": "code",
   "execution_count": 4,
   "id": "e5001cdd",
   "metadata": {},
   "outputs": [
    {
     "name": "stdout",
     "output_type": "stream",
     "text": [
      "spamspamspam\n"
     ]
    }
   ],
   "source": [
    "#Answer:\n",
    "x = 'spam' + 'spamspam'\n",
    "print(x)"
   ]
  },
  {
   "cell_type": "code",
   "execution_count": 5,
   "id": "8b45e549",
   "metadata": {},
   "outputs": [
    {
     "name": "stdout",
     "output_type": "stream",
     "text": [
      "spamspamspam\n"
     ]
    }
   ],
   "source": [
    "y = 'spam'*3\n",
    "print(y) "
   ]
  },
  {
   "cell_type": "code",
   "execution_count": null,
   "id": "3c3c550f",
   "metadata": {},
   "outputs": [],
   "source": [
    "8. Why is eggs a valid variable name while 100 is invalid?\n"
   ]
  },
  {
   "cell_type": "code",
   "execution_count": null,
   "id": "b956a81a",
   "metadata": {},
   "outputs": [],
   "source": [
    "#Answer\n",
    "100 is a literal number, not a variable. 100 is always 100 , you cannot set it to something else cause it has a definite value. \n",
    "A variable is like a void in which you can store a value. 100 is a value that can be stored in the variable."
   ]
  },
  {
   "cell_type": "code",
   "execution_count": null,
   "id": "02149976",
   "metadata": {},
   "outputs": [],
   "source": [
    "9. What three functions can be used to get the integer, floating-point number, or string version of a value?"
   ]
  },
  {
   "cell_type": "code",
   "execution_count": 9,
   "id": "54665aaf",
   "metadata": {},
   "outputs": [
    {
     "name": "stdout",
     "output_type": "stream",
     "text": [
      "data type of number is:  <class 'float'>\n",
      "now type of number is:  <class 'int'>\n",
      "Data type of w is <class 'int'>, and data type of x is <class 'float'>\n",
      "Data type of y is <class 'str'>, and data type of z is <class 'str'>\n"
     ]
    }
   ],
   "source": [
    "#Answer:\n",
    "# For Float ----> Int\n",
    "\n",
    "number = 22.33\n",
    "print(\"data type of number is: \", type(number))\n",
    "\n",
    "number = int(number)\n",
    "print(\"now type of number is: \", type(number))\n",
    "\n",
    "#To convert an integer or floating point number to a string we simply can place it between \" \" or ' '\n",
    "w = 20\n",
    "x = 69.420\n",
    "print(\"Data type of w is {}, and data type of x is {}\".format(type(w),type(x)))\n",
    "y = \"20\"\n",
    "z = \"69.420\"\n",
    "print(\"Data type of y is {}, and data type of z is {}\".format(type(y),type(z)))\n"
   ]
  },
  {
   "cell_type": "code",
   "execution_count": null,
   "id": "591ef796",
   "metadata": {},
   "outputs": [],
   "source": [
    "10. Why does this expression cause an error? How can you fix it?\n",
    "'I have eaten ' + 99 + ' burritos.'"
   ]
  },
  {
   "cell_type": "code",
   "execution_count": 6,
   "id": "7f951bf9",
   "metadata": {},
   "outputs": [
    {
     "name": "stdout",
     "output_type": "stream",
     "text": [
      "I have eaten 99 burritos.\n"
     ]
    }
   ],
   "source": [
    "#Answer:\n",
    "Correct_form = 'I have eaten ' + '99' + ' burritos.'\n",
    "print(Correct_form)"
   ]
  }
 ],
 "metadata": {
  "kernelspec": {
   "display_name": "Python 3",
   "language": "python",
   "name": "python3"
  },
  "language_info": {
   "codemirror_mode": {
    "name": "ipython",
    "version": 3
   },
   "file_extension": ".py",
   "mimetype": "text/x-python",
   "name": "python",
   "nbconvert_exporter": "python",
   "pygments_lexer": "ipython3",
   "version": "3.8.8"
  }
 },
 "nbformat": 4,
 "nbformat_minor": 5
}
