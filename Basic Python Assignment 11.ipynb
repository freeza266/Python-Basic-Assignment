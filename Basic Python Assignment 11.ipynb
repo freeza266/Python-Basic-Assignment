{
 "cells": [
  {
   "cell_type": "code",
   "execution_count": null,
   "id": "0b3657c1",
   "metadata": {},
   "outputs": [],
   "source": [
    "1. Create an assert statement that throws an AssertionError if the variable spam is a negative\n",
    "integer.\n"
   ]
  },
  {
   "cell_type": "code",
   "execution_count": 1,
   "id": "7b4387c2",
   "metadata": {},
   "outputs": [
    {
     "ename": "AssertionError",
     "evalue": "enter positive number",
     "output_type": "error",
     "traceback": [
      "\u001b[1;31m---------------------------------------------------------------------------\u001b[0m",
      "\u001b[1;31mAssertionError\u001b[0m                            Traceback (most recent call last)",
      "\u001b[1;32m<ipython-input-1-7f89ac0dc61d>\u001b[0m in \u001b[0;36m<module>\u001b[1;34m\u001b[0m\n\u001b[0;32m      3\u001b[0m     \u001b[1;32massert\u001b[0m \u001b[0mspam\u001b[0m\u001b[1;33m>\u001b[0m\u001b[1;36m0\u001b[0m \u001b[1;33m,\u001b[0m \u001b[1;34m\"enter positive number\"\u001b[0m\u001b[1;33m\u001b[0m\u001b[1;33m\u001b[0m\u001b[0m\n\u001b[0;32m      4\u001b[0m \u001b[1;33m\u001b[0m\u001b[0m\n\u001b[1;32m----> 5\u001b[1;33m \u001b[0mcheck_neg\u001b[0m\u001b[1;33m(\u001b[0m\u001b[1;33m-\u001b[0m\u001b[1;36m1\u001b[0m\u001b[1;33m)\u001b[0m\u001b[1;33m\u001b[0m\u001b[1;33m\u001b[0m\u001b[0m\n\u001b[0m",
      "\u001b[1;32m<ipython-input-1-7f89ac0dc61d>\u001b[0m in \u001b[0;36mcheck_neg\u001b[1;34m(spam)\u001b[0m\n\u001b[0;32m      1\u001b[0m \u001b[1;31m#Answer:\u001b[0m\u001b[1;33m\u001b[0m\u001b[1;33m\u001b[0m\u001b[1;33m\u001b[0m\u001b[0m\n\u001b[0;32m      2\u001b[0m \u001b[1;32mdef\u001b[0m \u001b[0mcheck_neg\u001b[0m\u001b[1;33m(\u001b[0m\u001b[0mspam\u001b[0m\u001b[1;33m)\u001b[0m\u001b[1;33m:\u001b[0m\u001b[1;33m\u001b[0m\u001b[1;33m\u001b[0m\u001b[0m\n\u001b[1;32m----> 3\u001b[1;33m     \u001b[1;32massert\u001b[0m \u001b[0mspam\u001b[0m\u001b[1;33m>\u001b[0m\u001b[1;36m0\u001b[0m \u001b[1;33m,\u001b[0m \u001b[1;34m\"enter positive number\"\u001b[0m\u001b[1;33m\u001b[0m\u001b[1;33m\u001b[0m\u001b[0m\n\u001b[0m\u001b[0;32m      4\u001b[0m \u001b[1;33m\u001b[0m\u001b[0m\n\u001b[0;32m      5\u001b[0m \u001b[0mcheck_neg\u001b[0m\u001b[1;33m(\u001b[0m\u001b[1;33m-\u001b[0m\u001b[1;36m1\u001b[0m\u001b[1;33m)\u001b[0m\u001b[1;33m\u001b[0m\u001b[1;33m\u001b[0m\u001b[0m\n",
      "\u001b[1;31mAssertionError\u001b[0m: enter positive number"
     ]
    }
   ],
   "source": [
    "#Answer:\n",
    "def check_neg(spam):\n",
    "    assert spam>0 , \"enter positive number\"\n",
    "    \n",
    "check_neg(-1)"
   ]
  },
  {
   "cell_type": "code",
   "execution_count": null,
   "id": "4892d064",
   "metadata": {},
   "outputs": [],
   "source": [
    "2. Write an assert statement that triggers an AssertionError if the variables eggs and bacon contain\n",
    "strings that are the same as each other, even if their cases are different (that is, &#39;hello&#39; and &#39;hello&#39; are\n",
    "considered the same, and &#39;goodbye&#39; and &#39;GOODbye&#39; are also considered the same).\n"
   ]
  },
  {
   "cell_type": "code",
   "execution_count": 2,
   "id": "f9474b6f",
   "metadata": {},
   "outputs": [],
   "source": [
    "#Answer:\n",
    "def assert_stat(eggs, bacon):\n",
    "    eggs = eggs.lower()\n",
    "    bacon = bacon.lower()\n",
    "    assert eggs==bacon, \"Enter same words\"\n",
    "    \n",
    "eggs = \"goodbye\"\n",
    "bacon = \"GOODbye\"\n",
    "assert_stat(eggs,bacon)"
   ]
  },
  {
   "cell_type": "code",
   "execution_count": 3,
   "id": "c07dd46e",
   "metadata": {},
   "outputs": [
    {
     "ename": "AssertionError",
     "evalue": "Enter same words and also check the lower and upper case",
     "output_type": "error",
     "traceback": [
      "\u001b[1;31m---------------------------------------------------------------------------\u001b[0m",
      "\u001b[1;31mAssertionError\u001b[0m                            Traceback (most recent call last)",
      "\u001b[1;32m<ipython-input-3-4f4e4a96ad38>\u001b[0m in \u001b[0;36m<module>\u001b[1;34m\u001b[0m\n\u001b[0;32m      5\u001b[0m \u001b[0meggs\u001b[0m \u001b[1;33m=\u001b[0m \u001b[1;34m\"goodbye\"\u001b[0m\u001b[1;33m\u001b[0m\u001b[1;33m\u001b[0m\u001b[0m\n\u001b[0;32m      6\u001b[0m \u001b[0mbacon\u001b[0m \u001b[1;33m=\u001b[0m \u001b[1;34m\"GOODbye\"\u001b[0m\u001b[1;33m\u001b[0m\u001b[1;33m\u001b[0m\u001b[0m\n\u001b[1;32m----> 7\u001b[1;33m \u001b[0massert_stat\u001b[0m\u001b[1;33m(\u001b[0m\u001b[0meggs\u001b[0m\u001b[1;33m,\u001b[0m\u001b[0mbacon\u001b[0m\u001b[1;33m)\u001b[0m\u001b[1;33m\u001b[0m\u001b[1;33m\u001b[0m\u001b[0m\n\u001b[0m",
      "\u001b[1;32m<ipython-input-3-4f4e4a96ad38>\u001b[0m in \u001b[0;36massert_stat\u001b[1;34m(eggs, bacon)\u001b[0m\n\u001b[0;32m      1\u001b[0m \u001b[1;32mdef\u001b[0m \u001b[0massert_stat\u001b[0m\u001b[1;33m(\u001b[0m\u001b[0meggs\u001b[0m\u001b[1;33m,\u001b[0m \u001b[0mbacon\u001b[0m\u001b[1;33m)\u001b[0m\u001b[1;33m:\u001b[0m\u001b[1;33m\u001b[0m\u001b[1;33m\u001b[0m\u001b[0m\n\u001b[0;32m      2\u001b[0m \u001b[1;33m\u001b[0m\u001b[0m\n\u001b[1;32m----> 3\u001b[1;33m     \u001b[1;32massert\u001b[0m \u001b[0meggs\u001b[0m\u001b[1;33m==\u001b[0m\u001b[0mbacon\u001b[0m\u001b[1;33m,\u001b[0m \u001b[1;34m\"Enter same words and also check the lower and upper case\"\u001b[0m\u001b[1;33m\u001b[0m\u001b[1;33m\u001b[0m\u001b[0m\n\u001b[0m\u001b[0;32m      4\u001b[0m \u001b[1;33m\u001b[0m\u001b[0m\n\u001b[0;32m      5\u001b[0m \u001b[0meggs\u001b[0m \u001b[1;33m=\u001b[0m \u001b[1;34m\"goodbye\"\u001b[0m\u001b[1;33m\u001b[0m\u001b[1;33m\u001b[0m\u001b[0m\n",
      "\u001b[1;31mAssertionError\u001b[0m: Enter same words and also check the lower and upper case"
     ]
    }
   ],
   "source": [
    "def assert_stat(eggs, bacon):\n",
    "    \n",
    "    assert eggs==bacon, \"Enter same words and also check the lower and upper case\"\n",
    "    \n",
    "eggs = \"goodbye\"\n",
    "bacon = \"GOODbye\"\n",
    "assert_stat(eggs,bacon)"
   ]
  },
  {
   "cell_type": "code",
   "execution_count": null,
   "id": "bbce344d",
   "metadata": {},
   "outputs": [],
   "source": [
    "3. Create an assert statement that throws an AssertionError every time.\n"
   ]
  },
  {
   "cell_type": "code",
   "execution_count": 4,
   "id": "5b4dd7e9",
   "metadata": {},
   "outputs": [],
   "source": [
    "#Answer:\n",
    "def always_error():\n",
    "    assert False, \"Assertion Error\""
   ]
  },
  {
   "cell_type": "code",
   "execution_count": 5,
   "id": "4ac2dfaf",
   "metadata": {},
   "outputs": [
    {
     "ename": "AssertionError",
     "evalue": "Assertion Error",
     "output_type": "error",
     "traceback": [
      "\u001b[1;31m---------------------------------------------------------------------------\u001b[0m",
      "\u001b[1;31mAssertionError\u001b[0m                            Traceback (most recent call last)",
      "\u001b[1;32m<ipython-input-5-9b941ef165c9>\u001b[0m in \u001b[0;36m<module>\u001b[1;34m\u001b[0m\n\u001b[1;32m----> 1\u001b[1;33m \u001b[0malways_error\u001b[0m\u001b[1;33m(\u001b[0m\u001b[1;33m)\u001b[0m\u001b[1;33m\u001b[0m\u001b[1;33m\u001b[0m\u001b[0m\n\u001b[0m",
      "\u001b[1;32m<ipython-input-4-50149bc23daa>\u001b[0m in \u001b[0;36malways_error\u001b[1;34m()\u001b[0m\n\u001b[0;32m      1\u001b[0m \u001b[1;31m#Answer:\u001b[0m\u001b[1;33m\u001b[0m\u001b[1;33m\u001b[0m\u001b[1;33m\u001b[0m\u001b[0m\n\u001b[0;32m      2\u001b[0m \u001b[1;32mdef\u001b[0m \u001b[0malways_error\u001b[0m\u001b[1;33m(\u001b[0m\u001b[1;33m)\u001b[0m\u001b[1;33m:\u001b[0m\u001b[1;33m\u001b[0m\u001b[1;33m\u001b[0m\u001b[0m\n\u001b[1;32m----> 3\u001b[1;33m     \u001b[1;32massert\u001b[0m \u001b[1;32mFalse\u001b[0m\u001b[1;33m,\u001b[0m \u001b[1;34m\"Assertion Error\"\u001b[0m\u001b[1;33m\u001b[0m\u001b[1;33m\u001b[0m\u001b[0m\n\u001b[0m",
      "\u001b[1;31mAssertionError\u001b[0m: Assertion Error"
     ]
    }
   ],
   "source": [
    "always_error()"
   ]
  },
  {
   "cell_type": "code",
   "execution_count": null,
   "id": "39d7c2ca",
   "metadata": {},
   "outputs": [],
   "source": [
    "4. What are the two lines that must be present in your software in order to call logging.debug()?\n"
   ]
  },
  {
   "cell_type": "code",
   "execution_count": null,
   "id": "5a86111a",
   "metadata": {},
   "outputs": [],
   "source": [
    "#Answer:\n",
    "import logging\n",
    "logging.basicConfig(filename = 'trial.txt',level = logging.DEBUG, format = '%(asctime)s - %(message)s - %(levelname)s')\n"
   ]
  },
  {
   "cell_type": "code",
   "execution_count": null,
   "id": "c8dc3d8d",
   "metadata": {},
   "outputs": [],
   "source": [
    "5. What are the two lines that your program must have in order to have logging.debug() send a\n",
    "logging message to a file named programLog.txt?\n"
   ]
  },
  {
   "cell_type": "code",
   "execution_count": 6,
   "id": "4cbd0c6d",
   "metadata": {},
   "outputs": [],
   "source": [
    "#Answer:\n",
    "import logging\n",
    "logging.basicConfig(filename = 'application_log.txt',level=logging.DEBUG, format=' %(asctime)s - %(levelname)s - %(message)s')\n",
    "logging.debug(\"Data Inserted Successfully\")\n",
    "logging.debug('Connection Closed Successfully')"
   ]
  },
  {
   "cell_type": "code",
   "execution_count": 7,
   "id": "8f30f275",
   "metadata": {},
   "outputs": [
    {
     "name": "stdout",
     "output_type": "stream",
     "text": [
      " 2022-01-17 12:18:46,189 - DEBUG - Data Inserted Successfully\n",
      "\n",
      " 2022-01-17 12:18:46,189 - DEBUG - Connection Closed Successfully\n",
      "\n"
     ]
    }
   ],
   "source": [
    "file = open(\"./application_log.txt\",\"r\")\n",
    "for record in file.readlines():\n",
    "    print(record)"
   ]
  },
  {
   "cell_type": "code",
   "execution_count": null,
   "id": "ad244aa6",
   "metadata": {},
   "outputs": [],
   "source": [
    "6. What are the five levels of logging?\n"
   ]
  },
  {
   "cell_type": "code",
   "execution_count": null,
   "id": "69fa40d5",
   "metadata": {},
   "outputs": [],
   "source": [
    "#Answer:\n",
    "The Five levels of Logging provided by python's logging module are\n",
    "CRITICAL(50), ERROR(40), WARNING(30), INFO(20, DEBUG(10), NOTSET(0)"
   ]
  },
  {
   "cell_type": "code",
   "execution_count": null,
   "id": "68ada862",
   "metadata": {},
   "outputs": [],
   "source": [
    "7. What line of code would you add to your software to disable all logging messages?\n"
   ]
  },
  {
   "cell_type": "code",
   "execution_count": null,
   "id": "6952a915",
   "metadata": {},
   "outputs": [],
   "source": [
    "#Answer:\n",
    "logging.disable = True"
   ]
  },
  {
   "cell_type": "code",
   "execution_count": null,
   "id": "2faa2e09",
   "metadata": {},
   "outputs": [],
   "source": [
    "8.Why is using logging messages better than using print() to display the same message?\n"
   ]
  },
  {
   "cell_type": "code",
   "execution_count": null,
   "id": "d079d9a3",
   "metadata": {},
   "outputs": [],
   "source": [
    "#Answer:\n",
    "print is used when you want to display any particular message or help whereas logging is used to record all events like \n",
    "error, info, debug messages, timestamps."
   ]
  },
  {
   "cell_type": "code",
   "execution_count": null,
   "id": "156a22be",
   "metadata": {},
   "outputs": [],
   "source": [
    "9. What are the differences between the Step Over, Step In, and Step Out buttons in the debugger?\n"
   ]
  },
  {
   "cell_type": "code",
   "execution_count": null,
   "id": "f7113e3c",
   "metadata": {},
   "outputs": [],
   "source": [
    "#Answer:\n",
    "Step Over: This button will step over i.e. it will execute that line but result returned without debugging.\n",
    "Step In: This button helps entering debugger and start debugging line by line.\n",
    "Step Out: This breaks out of the debugger."
   ]
  },
  {
   "cell_type": "code",
   "execution_count": null,
   "id": "ad70a178",
   "metadata": {},
   "outputs": [],
   "source": [
    "10.After you click Continue, when will the debugger stop ?\n"
   ]
  },
  {
   "cell_type": "code",
   "execution_count": null,
   "id": "f0cb1a58",
   "metadata": {},
   "outputs": [],
   "source": [
    "#Answer:\n",
    "This will cause the program to continue running normally, \n",
    "without pausing for debugging untill it terminates or reaches a breakpoint."
   ]
  },
  {
   "cell_type": "code",
   "execution_count": null,
   "id": "bb136dbc",
   "metadata": {},
   "outputs": [],
   "source": [
    "11. What is the concept of a breakpoint?"
   ]
  },
  {
   "cell_type": "code",
   "execution_count": null,
   "id": "ee57e53f",
   "metadata": {},
   "outputs": [],
   "source": [
    "#Answer:\n",
    "Breakpoint is a setting on a line of code that causes the debugger to pause when the program execution reaches the line."
   ]
  }
 ],
 "metadata": {
  "kernelspec": {
   "display_name": "Python 3",
   "language": "python",
   "name": "python3"
  },
  "language_info": {
   "codemirror_mode": {
    "name": "ipython",
    "version": 3
   },
   "file_extension": ".py",
   "mimetype": "text/x-python",
   "name": "python",
   "nbconvert_exporter": "python",
   "pygments_lexer": "ipython3",
   "version": "3.8.8"
  }
 },
 "nbformat": 4,
 "nbformat_minor": 5
}
